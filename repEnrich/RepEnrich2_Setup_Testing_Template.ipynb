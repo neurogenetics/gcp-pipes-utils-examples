{
 "cells": [
  {
   "cell_type": "code",
   "execution_count": 42,
   "metadata": {},
   "outputs": [],
   "source": [
    "WRKDIR = ''\n",
    "DOWNLOADDIR = '{}/pipelinedownloads'.format(WRKDIR)\n",
    "GCOUTPUT = ''\n",
    "USER = ''\n",
    "PROJECT_ID = ''\n",
    "BUCKET = ''"
   ]
  },
  {
   "cell_type": "markdown",
   "metadata": {},
   "source": [
    "## Download pipeline python scripts from github"
   ]
  },
  {
   "cell_type": "code",
   "execution_count": 31,
   "metadata": {},
   "outputs": [
    {
     "name": "stdout",
     "output_type": "stream",
     "text": [
      "  % Total    % Received % Xferd  Average Speed   Time    Time     Time  Current\n",
      "                                 Dload  Upload   Total   Spent    Left  Speed\n",
      "100 19849  100 19849    0     0    98k      0 --:--:-- --:--:-- --:--:--   98k\n",
      "  % Total    % Received % Xferd  Average Speed   Time    Time     Time  Current\n",
      "                                 Dload  Upload   Total   Spent    Left  Speed\n",
      "100  9665  100  9665    0     0  68063      0 --:--:-- --:--:-- --:--:-- 68063\n",
      "  % Total    % Received % Xferd  Average Speed   Time    Time     Time  Current\n",
      "                                 Dload  Upload   Total   Spent    Left  Speed\n",
      "100  6058  100  6058    0     0  43582      0 --:--:-- --:--:-- --:--:-- 43582\n"
     ]
    }
   ],
   "source": [
    "!curl https://raw.githubusercontent.com/nerettilab/RepEnrich2/master/RepEnrich2.py \\\n",
    "    -o {DOWNLOADDIR}/RepEnrich2.py\n",
    "!curl https://raw.githubusercontent.com/nerettilab/RepEnrich2/master/RepEnrich2_setup.py \\\n",
    "    -o {DOWNLOADDIR}/RepEnrich2_setup.py\n",
    "!curl https://raw.githubusercontent.com/nerettilab/RepEnrich2/master/RepEnrich2_subset.py \\\n",
    "    -o {DOWNLOADDIR}/RepEnrich2_subset.py\n",
    "\n"
   ]
  },
  {
   "cell_type": "markdown",
   "metadata": {},
   "source": [
    "## Push scripts to google cloud \n",
    "#fill in path to where you coped RepEnrich scripts for the gsutil"
   ]
  },
  {
   "cell_type": "code",
   "execution_count": null,
   "metadata": {},
   "outputs": [],
   "source": [
    "%%bash -s \"$DOWNLOADDIR\"\n",
    "DOWNLOADDIR=${1}\n",
    "cd ${DOWNLOADDIR}\n",
    "##fill in path to where you coped RepEnrich scripts\n",
    "gsutil cp RepEnrich2_setup.py gs://\n",
    "gsutil cp RepEnrich2_subset.py gs://\n",
    "gsutil cp RepEnrich2.py gs://"
   ]
  },
  {
   "cell_type": "markdown",
   "metadata": {},
   "source": [
    "# Step 1) Attain repetitive element annotation\n",
    "## Use (a) the provided cleaned file or (b) the full repeatmasker file"
   ]
  },
  {
   "cell_type": "markdown",
   "metadata": {},
   "source": [
    "### (a) Cleaned repeatmasker file \n",
    "download `hg38_repeatmasker_clean.txt.gz` and `Repenrich2_setup_hg38.tar.gz` from [here](https://drive.google.com/drive/folders/0B8_2gE04f4QWNmdpWlhaWEYwaHM)"
   ]
  },
  {
   "cell_type": "code",
   "execution_count": null,
   "metadata": {},
   "outputs": [],
   "source": [
    "%%bash -s \"$DOWNLOADDIR\"\n",
    "DIR=${1}\n",
    "cd ${DIR}\n",
    "gunzip hg38_repeatmasker_clean.txt.gz"
   ]
  },
  {
   "cell_type": "code",
   "execution_count": null,
   "metadata": {},
   "outputs": [],
   "source": [
    "print(\"Run at terminal (already done):\")\n",
    "print(\"gsutil cp \\\n",
    "{}/hg38_repeatmasker_clean.txt \\\n",
    "{}/resourcestest/\".format(DOWNLOADDIR,BUCKET))"
   ]
  },
  {
   "cell_type": "markdown",
   "metadata": {},
   "source": [
    "you can use the provided repetitive element indexed files (`RepEnrich2_setup_hg38`) OR generate them using the setup script on the `hg38_repeatmasker_clean.txt` annotation file (go to Step 2)"
   ]
  },
  {
   "cell_type": "code",
   "execution_count": null,
   "metadata": {},
   "outputs": [],
   "source": [
    "print(\"run this to copy the indexed files to google cloud if you aren't generating them yourself (already done)\")\n",
    "print(\"gsutil cp \\\n",
    "{}/Repenrich2_setup_hg38.tar.gz \\\n",
    "{}/resourcestest/\".format(DOWNLOADDIR,BUCKET))"
   ]
  },
  {
   "cell_type": "markdown",
   "metadata": {},
   "source": [
    "### (b) Make the full size repeatmasker.txt file (use this instead of `hg38_repeatmasker_clean.txt`)"
   ]
  },
  {
   "cell_type": "code",
   "execution_count": 79,
   "metadata": {},
   "outputs": [
    {
     "name": "stdout",
     "output_type": "stream",
     "text": [
      "  % Total    % Received % Xferd  Average Speed   Time    Time     Time  Current\n",
      "                                 Dload  Upload   Total   Spent    Left  Speed\n",
      "100  175M  100  175M    0     0  6971k      0  0:00:25  0:00:25 --:--:-- 7898k\n"
     ]
    }
   ],
   "source": [
    "#download repeatmasker file\n",
    "!curl http://www.repeatmasker.org/genomes/hg38/RepeatMasker-rm405-db20140131/hg38.fa.out.gz \\\n",
    "    -o {DOWNLOADDIR}/hg38.fa.out.gz"
   ]
  },
  {
   "cell_type": "code",
   "execution_count": 81,
   "metadata": {},
   "outputs": [],
   "source": [
    "%%bash -s \"$DOWNLOADDIR\"\n",
    "DOWNLOADDIR=${1}\n",
    "cd ${DOWNLOADDIR}\n",
    "gunzip hg38.fa.out.gz\n",
    "mv hg38.fa.out hg38_repeatmasker.txt"
   ]
  },
  {
   "cell_type": "code",
   "execution_count": null,
   "metadata": {},
   "outputs": [],
   "source": [
    "print(\"Run at terminal (already done):\")\n",
    "print(\"gsutil cp \\\n",
    "{}/hg38_repeatmasker.txt \\\n",
    "{}/resourcestest/\".format(DOWNLOADDIR,BUCKET))"
   ]
  },
  {
   "cell_type": "markdown",
   "metadata": {},
   "source": [
    "# Step 2) Run the setup for RepEnrich2"
   ]
  },
  {
   "cell_type": "markdown",
   "metadata": {},
   "source": [
    "## Download hg38 bowtie2 indexed files from biowulf and push to google cloud\n",
    "found in `/fdb/igenomes/Homo_sapiens/UCSC/hg38/Sequence/Bowtie2Index/`"
   ]
  },
  {
   "cell_type": "code",
   "execution_count": null,
   "metadata": {
    "scrolled": false
   },
   "outputs": [],
   "source": [
    "print(\"run in terminal once files are downloaded locally (already done):\\n\")\n",
    "\n",
    "print(\"gsutil cp \\\n",
    "{}/genome.1.bt2 \\\n",
    "{}/resourcestest/hg38_bowtie2/\".format(DOWNLOADDIR,BUCKET))\n",
    "print(\"gsutil cp \\\n",
    "{}/genome.2.bt2 \\\n",
    "{}/resourcestest/hg38_bowtie2/\".format(DOWNLOADDIR,BUCKET))\n",
    "print(\"gsutil cp \\\n",
    "{}/genome.3.bt2 \\\n",
    "{}/resourcestest/hg38_bowtie2/\".format(DOWNLOADDIR,BUCKET))\n",
    "print(\"gsutil cp \\\n",
    "{}/genome.4.bt2 \\\n",
    "{}/resourcestest/hg38_bowtie2/\".format(DOWNLOADDIR,BUCKET))\n",
    "print(\"gsutil cp \\\n",
    "{}/genome.fa \\\n",
    "{}/resourcestest/hg38_bowtie2/\".format(DOWNLOADDIR,BUCKET))\n",
    "print(\"gsutil cp \\\n",
    "{}/genome.rev.1.bt2 \\\n",
    "{}/resourcestest/hg38_bowtie2/\".format(DOWNLOADDIR,BUCKET))\n",
    "print(\"gsutil cp \\\n",
    "{}/genome.rev.2.bt2 \\\n",
    "{}/resourcestest/hg38_bowtie2/\".format(DOWNLOADDIR))"
   ]
  },
  {
   "cell_type": "markdown",
   "metadata": {},
   "source": [
    "## Build the annotations using the setup script (already done)"
   ]
  },
  {
   "cell_type": "markdown",
   "metadata": {},
   "source": [
    "### copy `hg38_repeatmasker.txt` (or `hg38_repeatmasker_clean.txt`) and `RepEnrich2_setup.py` to biowulf then create a script to run the python script (so you can load the modules and submit as a sbatch job)"
   ]
  },
  {
   "cell_type": "code",
   "execution_count": 30,
   "metadata": {},
   "outputs": [],
   "source": [
    "BIOWULF_FOLDER = ''\n",
    "#ANNOTATION_FILE should be 'hg38_repeatmasker.txt' or 'hg38_repeatmasker_clean.txt'\n",
    "ANNOTATION_FILE = 'hg38_repeatmasker.txt'"
   ]
  },
  {
   "cell_type": "code",
   "execution_count": null,
   "metadata": {},
   "outputs": [],
   "source": [
    "print(\"create a script with this code:\")\n",
    "print(\"#!/bin/bash\\n\\\n",
    "module load python\\n\\\n",
    "module load bowtie\\n\\\n",
    "module load bedtools\\n\\\n",
    "module load samtools\\n\\\n",
    "python RepEnrich2_setup.py {}/{}\\\n",
    " /fdb/igenomes/Homo_sapiens/UCSC/hg38/Sequence/Bowtie2Index/genome.fa\\\n",
    " {}/setup_folder_hg38\".format(BIOWULF_FOLDER, ANNOTATION_FILE, BIOWULF_FOLDER))"
   ]
  },
  {
   "cell_type": "markdown",
   "metadata": {},
   "source": [
    "#### run the script (takes several hours with the full genome.fa)"
   ]
  },
  {
   "cell_type": "code",
   "execution_count": 11,
   "metadata": {},
   "outputs": [
    {
     "name": "stdout",
     "output_type": "stream",
     "text": [
      "sbatch --mem=100g --cpus-per-task=10 --mail-type=ALL --time=24:00:00 setup_run.sh\n"
     ]
    }
   ],
   "source": [
    "print(\"sbatch --mem=100g --cpus-per-task=10 --mail-type=ALL --time=24:00:00 setup_run.sh\")"
   ]
  },
  {
   "cell_type": "markdown",
   "metadata": {},
   "source": [
    "### Compress the setup folder and push to google cloud\n",
    "run all this in biowulf"
   ]
  },
  {
   "cell_type": "code",
   "execution_count": 2,
   "metadata": {},
   "outputs": [
    {
     "name": "stdout",
     "output_type": "stream",
     "text": [
      "compress the folder:\n",
      "tar czf setup_folder_hg38.tar.gz setup_folder_hg38\n"
     ]
    }
   ],
   "source": [
    "print(\"compress the folder:\")\n",
    "print(\"tar czf setup_folder_hg38.tar.gz setup_folder_hg38\")\n",
    "\n"
   ]
  },
  {
   "cell_type": "code",
   "execution_count": null,
   "metadata": {},
   "outputs": [],
   "source": [
    "print(\"log into google cloud via biowulf:\")\n",
    "print(\"module load google-cloud-sdk\")\n",
    "print(\"gcloud auth login\")\n",
    "\n",
    "print(\"\")\n",
    "\n",
    "print(\"follow login instructions and then run command to push archived file to google cloud:\")\n",
    "\n",
    "print(\"gsutil cp \\\n",
    "setup_folder_hg38.tar.gz \\\n",
    "{}/resourcestest/\".format(BUCKET))"
   ]
  },
  {
   "cell_type": "markdown",
   "metadata": {},
   "source": [
    "# Step 3 + 4) Map the data to the genome and Run RepEnrich2 on the data\n",
    "## start by building and pushing the image (already done)\n",
    "docker must be installed locally (https://docs.docker.com/docker-for-mac/install/)"
   ]
  },
  {
   "cell_type": "code",
   "execution_count": null,
   "metadata": {},
   "outputs": [],
   "source": [
    "print(\"run this locally at terminal in folder of docker image:\")\n",
    "print(\"docker build -t test-image .\")\n",
    "\n",
    "print(\"\\ntag the image to point it to the google cloud project:\")\n",
    "print(\"docker tag test-image:latest us.gcr.io/{}/test-image\".format(PROJECT_ID))\n",
    "\n",
    "print(\"\\npush the image to google cloud:\")\n",
    "print(\"docker push us.gcr.io/{}/test-image\".format(PROJECT_ID))\n",
    "\n",
    "print(\"\\ncheck 'Container Registry' in gcc to find the new image\")"
   ]
  },
  {
   "cell_type": "markdown",
   "metadata": {},
   "source": [
    "#### once pushed find the container on google cloud and copy its full path\n",
    "something like:\n",
    "\n",
    "```us.gcr.io/BUCKET/test-image@sha256:04bc2af3cccd8618e6eafadc7d46e7fb24b2dc89e0e62ea0bdb26865d081f632```"
   ]
  },
  {
   "cell_type": "markdown",
   "metadata": {},
   "source": [
    "paste the full path name into the input.json file wherever a docker variable is set\n",
    "\n",
    "like\n",
    "\n",
    "```\"RepEnrichWorkflow.SamToBam.dockerimg\": \"us.gcr.io/PROJECT/test-image@sha256:04bc2af3cccd8618e6eafadc7d46e7fb24b2dc89e0e62ea0bdb26865d081f632\"```"
   ]
  },
  {
   "cell_type": "markdown",
   "metadata": {},
   "source": [
    "## Run the wdl\n",
    "#### run this locally in terminal"
   ]
  },
  {
   "cell_type": "code",
   "execution_count": 44,
   "metadata": {},
   "outputs": [],
   "source": [
    "FINAL_GC_OUTPUT='{}/Repenrich2_output'.format(GCOUTPUT)\n",
    "COHORT = ''\n",
    "SAMPLE=''"
   ]
  },
  {
   "cell_type": "code",
   "execution_count": null,
   "metadata": {},
   "outputs": [],
   "source": [
    "print(\"gcloud alpha genomics pipelines run --project {} \\\n",
    "--pipeline-file {}/tools/wdl_pipeline.yaml --zones us-central1-f --memory 60 \\\n",
    "--logging {}/logs --inputs-from-file WDL={}/repEnrich2.wdl \\\n",
    "--inputs-from-file WORKFLOW_INPUTS={}/input.json \\\n",
    "--inputs-from-file WORKFLOW_OPTIONS={}/generic.google-papi.options.json \\\n",
    "--inputs WORKSPACE={}/Repenrich2_workspace \\\n",
    "--inputs OUTPUTS={} \\\n",
    "--labels=pipe=repenrich2,sample={},cohort={},user={}\".format(PROJECT_ID, BUCKET, GCOUTPUT, WRKDIR, WRKDIR, WRKDIR, GCOUTPUT, FINAL_GC_OUTPUT, SAMPLE, COHORT, USER))"
   ]
  },
  {
   "cell_type": "markdown",
   "metadata": {},
   "source": [
    "## Monitor the jobs (WIP, unfinished)"
   ]
  },
  {
   "cell_type": "code",
   "execution_count": 51,
   "metadata": {},
   "outputs": [
    {
     "name": "stderr",
     "output_type": "stream",
     "text": [
      "Listed 0 items.\n"
     ]
    }
   ],
   "source": [
    "%%bash -s \"$USER\" \"$COHORT\" \"$SAMPLE\" \"$PROJECT_ID\"\n",
    "\n",
    "USER=${1}\n",
    "COHORT=${2}\n",
    "SAMPLE=${3}\n",
    "PROJECT_ID=${4}\n",
    "\n",
    "PIPELABEL=repenrich2\n",
    "\n",
    "gcloud compute instances list --project ${PROJECT_ID} --filter \"labels.pipe=${PIPELABEL}\" "
   ]
  },
  {
   "cell_type": "code",
   "execution_count": null,
   "metadata": {},
   "outputs": [],
   "source": [
    "print('gcloud compute instances list --project {} --filter \"labels.pipe={} labels.cohort={} labels.user={} labels.sample={}\" '.format(PROJECT_ID,\"repenrich2\",COHORT, USER, SAMPLE))"
   ]
  },
  {
   "cell_type": "code",
   "execution_count": 54,
   "metadata": {},
   "outputs": [
    {
     "name": "stdout",
     "output_type": "stream",
     "text": [
      "done: true\n",
      "metadata:\n",
      "  events:\n",
      "  - description: start\n",
      "    startTime: '2019-10-17T15:31:31.756157608Z'\n",
      "  - description: pulling-image\n",
      "    startTime: '2019-10-17T15:31:31.756227034Z'\n",
      "  - description: localizing-files\n",
      "    startTime: '2019-10-17T15:31:55.304646554Z'\n",
      "  - description: running-docker\n",
      "    startTime: '2019-10-17T15:31:55.304672508Z'\n",
      "  - description: delocalizing-files\n",
      "    startTime: '2019-10-19T02:23:47.909198410Z'\n",
      "  - description: ok\n",
      "    startTime: '2019-10-19T02:23:48.782883095Z'\n"
     ]
    }
   ],
   "source": [
    "%%bash\n",
    "\n",
    "OPID=EIOn4NLdLRiDoInU-Myag_UBINn1oK--DSoPcHJvZHVjdGlvblF1ZXVl\n",
    "gcloud alpha genomics operations describe ${OPID} \\\n",
    "--format='yaml(done, error, metadata.events)'"
   ]
  },
  {
   "cell_type": "code",
   "execution_count": 56,
   "metadata": {},
   "outputs": [
    {
     "name": "stderr",
     "output_type": "stream",
     "text": [
      "Listed 0 items.\n"
     ]
    }
   ],
   "source": [
    "%%bash\n",
    "\n",
    "\n",
    "gcloud compute instances list"
   ]
  },
  {
   "cell_type": "markdown",
   "metadata": {},
   "source": [
    "## Download the output locally"
   ]
  },
  {
   "cell_type": "code",
   "execution_count": null,
   "metadata": {},
   "outputs": [],
   "source": [
    "print(\"gsutil -mq cp {}/* {}/output\".format(FINAL_GC_OUTPUT, WRKDIR))"
   ]
  }
 ],
 "metadata": {
  "kernelspec": {
   "display_name": "Python 3",
   "language": "python",
   "name": "python3"
  },
  "language_info": {
   "codemirror_mode": {
    "name": "ipython",
    "version": 3
   },
   "file_extension": ".py",
   "mimetype": "text/x-python",
   "name": "python",
   "nbconvert_exporter": "python",
   "pygments_lexer": "ipython3",
   "version": "3.7.3"
  }
 },
 "nbformat": 4,
 "nbformat_minor": 2
}
