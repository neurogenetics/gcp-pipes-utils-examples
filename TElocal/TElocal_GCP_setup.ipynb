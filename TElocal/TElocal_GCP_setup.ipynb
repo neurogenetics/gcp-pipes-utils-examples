{
 "cells": [
  {
   "cell_type": "markdown",
   "metadata": {},
   "source": [
    "# Setup for TEtranscripts pipeline on google cloud\n",
    "https://github.com/mhammell-laboratory/TEtranscripts"
   ]
  },
  {
   "cell_type": "code",
   "execution_count": null,
   "metadata": {},
   "outputs": [],
   "source": [
    "WRKDIR = 'path/to/telocal/dir'\n",
    "DOCKERFILEDIR = f'{WRKDIR}/build'\n",
    "DOWNLOADDIR = f'{WRKDIR}/pipelinedownloads'\n",
    "PROJECT_ID = 'pd-genome'\n",
    "\n",
    "\n",
    "GCOUTPUT ='gs://path/to/output' \n",
    "USER = 'grennfp'\n",
    "\n",
    "\n",
    "COHORT = 'ppmi'"
   ]
  },
  {
   "cell_type": "code",
   "execution_count": null,
   "metadata": {},
   "outputs": [],
   "source": [
    "!mkdir {DOWNLOADDIR}\n"
   ]
  },
  {
   "cell_type": "code",
   "execution_count": null,
   "metadata": {},
   "outputs": [],
   "source": [
    "from pathlib import Path\n",
    "import pandas as pd\n",
    "import os"
   ]
  },
  {
   "cell_type": "markdown",
   "metadata": {},
   "source": [
    "# (2) Get the Gene and TE Annotation Files\n",
    "found [here](http://labshare.cshl.edu/shares/mhammelllab/www-data/TElocal/prebuilt_indices/)"
   ]
  },
  {
   "cell_type": "markdown",
   "metadata": {},
   "source": [
    "## a) TE Annotation"
   ]
  },
  {
   "cell_type": "code",
   "execution_count": null,
   "metadata": {},
   "outputs": [],
   "source": [
    "!curl http://labshare.cshl.edu/shares/mhammelllab/www-data/TElocal/prebuilt_indices/hg38_rmsk_wHSAT2_TElocus.ind.gz -o {DOWNLOADDIR}/hg38_rmsk_wHSAT2_TElocus.ind.gz\n",
    "!gunzip {DOWNLOADDIR}/hg38_rmsk_wHSAT2_TElocus.ind.gz\n"
   ]
  },
  {
   "cell_type": "code",
   "execution_count": null,
   "metadata": {},
   "outputs": [],
   "source": [
    "!curl http://labshare.cshl.edu/shares/mhammelllab/www-data/TElocal/GTF/hg38_rmsk_TEinst.gtf.gz -o {DOWNLOADDIR}/hg38_rmsk_TEinst.gtf.gz\n",
    "!gunzip {DOWNLOADDIR}/hg38_rmsk_TEinst.gtf.gz"
   ]
  },
  {
   "cell_type": "code",
   "execution_count": null,
   "metadata": {},
   "outputs": [],
   "source": [
    "!curl http://labshare.cshl.edu/shares/mhammelllab/www-data/TEtranscripts/TE_GTF/hg38_rmsk_TE.gtf.gz -o {DOWNLOADDIR}/hg38_rmsk_TEinst2.gtf.gz\n",
    "!gunzip {DOWNLOADDIR}/hg38_rmsk_TEinst2.gtf.gz"
   ]
  },
  {
   "cell_type": "markdown",
   "metadata": {},
   "source": [
    "\n",
    "## b) Gene Annotation\n",
    "download the hg38 gene annotation file: http://genome.ucsc.edu/cgi-bin/hgTables \n",
    "\n",
    "enter file name, select gtf output format, and hit get output"
   ]
  },
  {
   "cell_type": "markdown",
   "metadata": {},
   "source": [
    "# (2) Docker Setup\n",
    "docker must be installed locally (https://docs.docker.com/docker-for-mac/install/)"
   ]
  },
  {
   "cell_type": "markdown",
   "metadata": {},
   "source": [
    "## a) make the dockerfile and build the image\n",
    "run the following in the directory of the dockerfile  \n",
    "make sure the annotation files are in the same directory as the docker file before building. "
   ]
  },
  {
   "cell_type": "code",
   "execution_count": null,
   "metadata": {},
   "outputs": [],
   "source": [
    "!docker build -t telocal-image {DOCKERFILEDIR} \n"
   ]
  },
  {
   "cell_type": "code",
   "execution_count": null,
   "metadata": {},
   "outputs": [],
   "source": [
    "!docker images"
   ]
  },
  {
   "cell_type": "markdown",
   "metadata": {},
   "source": [
    "## b) Push the Image to Google Cloud\n",
    "\n",
    "tag it and push it to the google cloud project we will be using"
   ]
  },
  {
   "cell_type": "code",
   "execution_count": null,
   "metadata": {},
   "outputs": [],
   "source": [
    "!docker tag telocal-image:latest us.gcr.io/{PROJECT_ID}/telocal-image\n",
    "    "
   ]
  },
  {
   "cell_type": "code",
   "execution_count": null,
   "metadata": {},
   "outputs": [],
   "source": [
    "!docker images"
   ]
  },
  {
   "cell_type": "code",
   "execution_count": null,
   "metadata": {},
   "outputs": [],
   "source": [
    "!docker push us.gcr.io/{PROJECT_ID}/telocal-image"
   ]
  },
  {
   "cell_type": "markdown",
   "metadata": {},
   "source": [
    "#### once pushed find the container on google cloud in the container registry and copy its full path\n",
    "something like:\n",
    "\n",
    "```us.gcr.io/projectid/test-image@sha256:04bc2af3cccd8618e6eafadc7d46e7fb24b2dc89e0e62ea0bdb26865d081f632```"
   ]
  },
  {
   "cell_type": "markdown",
   "metadata": {},
   "source": [
    "paste the full path name into the input.json file wherever a docker variable is set\n",
    "\n",
    "like\n",
    "\n",
    "```\"TEtranscriptsWorkflow.dockerimg\": \"us.gcr.io/projectid/test-image@sha256:04bc2af3cccd8618e6eafadc7d46e7fb24b2dc89e0e62ea0bdb26865d081f632\"```"
   ]
  },
  {
   "cell_type": "code",
   "execution_count": null,
   "metadata": {},
   "outputs": [],
   "source": [
    "IMAGEPATH = 'us.gcr.io/pd-genome/telocal-image@sha256:6a4ede078b704d1f361eb471f14a9f2bc12811c08718887069f188d47795ed27'"
   ]
  },
  {
   "cell_type": "markdown",
   "metadata": {},
   "source": [
    "# 3) Get List of Samples and Paths to BAM Files"
   ]
  },
  {
   "cell_type": "code",
   "execution_count": null,
   "metadata": {},
   "outputs": [],
   "source": [
    "bams = ['gs://pathtosample1.bam',\n",
    "       'gs://pathtosample2.bam']\n",
    "samples = ['sample1','sample2']"
   ]
  },
  {
   "cell_type": "markdown",
   "metadata": {},
   "source": [
    "# (4) Setup Google Genomics Pipeline Run For TElocal\n"
   ]
  },
  {
   "cell_type": "code",
   "execution_count": null,
   "metadata": {},
   "outputs": [],
   "source": [
    "import json\n",
    "#for paired end like nabec and ppmi samples\n",
    "json_input_template = f'{WRKDIR}/templates/blank.telocal.input.json'\n",
    "\n",
    "for i in range(len(samples2)):\n",
    "    sample_id = str.replace(samples2[i].lower(),\"-\",\"\")\n",
    "    \n",
    "    json_input_outfile_name = f'{WRKDIR}/jsons/{sample_id}.input.json'\n",
    "    \n",
    "    with open(json_input_template) as json_file:\n",
    "        input_data = json.load(json_file)\n",
    "        \n",
    "        input_data['TElocalWorkflow.sample_name'] = sample_id\n",
    "        input_data['TElocalWorkflow.sample_bam_file'] = bams2[i]\n",
    "        \n",
    "        input_data['TElocalWorkflow.TElocal.mem_size'] = \"256 GB\"\n",
    "        \n",
    "        input_data['TElocalWorkflow.TElocal.cpus'] = \"32\"\n",
    "        #STRANDED OPTION (forward, reverse or no)\n",
    "        input_data['TElocalWorkflow.TElocal.stranded'] = \"no\"\n",
    "        \n",
    "        with open(json_input_outfile_name, 'w') as json_outfile:\n",
    "            json.dump(input_data,json_outfile,sort_keys=True,indent=4)"
   ]
  },
  {
   "cell_type": "code",
   "execution_count": null,
   "metadata": {},
   "outputs": [],
   "source": [
    "def formatgcpcmd(this_sample):\n",
    "    this_cmd = f'echo -n {this_sample} \\n\\\n",
    "gcloud alpha genomics pipelines run \\\n",
    "--project {PROJECT_ID} \\\n",
    "--pipeline-file gs://path/to/wdl_pipeline_preemptible.yaml \\\n",
    "--zones us-central1-a \\\n",
    "--memory 104 \\\n",
    "--logging {GCOUTPUT}/logs/{this_sample} \\\n",
    "--inputs-from-file WDL={WRKDIR}/TElocal_pipeline.wdl \\\n",
    "--inputs-from-file WORKFLOW_INPUTS={WRKDIR}/jsons/{this_sample}.input.json \\\n",
    "--inputs-from-file WORKFLOW_OPTIONS={WRKDIR}/generic.google-papi.options.json \\\n",
    "--inputs WORKSPACE={GCOUTPUT}/workspace/{this_sample} \\\n",
    "--inputs OUTPUTS={GCOUTPUT}/output/{this_sample} \\\n",
    "--preemptible \\\n",
    "--labels=pipe=telocal,sample={this_sample},cohort={COHORT.lower()},user={USER}'\n",
    "    return(this_cmd)\n",
    "\n"
   ]
  },
  {
   "cell_type": "code",
   "execution_count": null,
   "metadata": {},
   "outputs": [],
   "source": [
    "cmds = [formatgcpcmd(sample.replace('-','').lower()) for sample in samples2]\n",
    "\n",
    "temp_script_file = f'{WRKDIR}/run_TElocal_ggp.sh'.format(WRKDIR)\n",
    "\n",
    "with open(temp_script_file, 'w') as file_handler:\n",
    "    for this_cmd in cmds:\n",
    "        file_handler.write(f\"{this_cmd}\\n\")\n",
    "        \n"
   ]
  },
  {
   "cell_type": "markdown",
   "metadata": {},
   "source": [
    "# (5) Run TElocal "
   ]
  },
  {
   "cell_type": "code",
   "execution_count": null,
   "metadata": {},
   "outputs": [],
   "source": [
    "print('#run these commands at terminal:\\n')\n",
    "print('chmod +x ' + temp_script_file)\n",
    "print('nohup ' + temp_script_file + ' > {}/run_TElocal.log &'.format(WRKDIR))"
   ]
  },
  {
   "cell_type": "code",
   "execution_count": null,
   "metadata": {},
   "outputs": [],
   "source": [
    "#command to check the status of the job\n",
    "!gcloud alpha genomics operations describe EK3H8YGoLhjDq9HN3NGvQyCkgNbfpAYqD3Byb2R1Y3Rpb25RdWV1ZQ"
   ]
  },
  {
   "cell_type": "code",
   "execution_count": null,
   "metadata": {},
   "outputs": [],
   "source": [
    "#command to cancel the job\n",
    "!gcloud alpha genomics operations cancel EIWBuP-nLhi-2Ir6koey1voBIKSA1t-kBioPcHJvZHVjdGlvblF1ZXVl"
   ]
  }
 ],
 "metadata": {
  "kernelspec": {
   "display_name": "Python 3",
   "language": "python",
   "name": "python3"
  },
  "language_info": {
   "codemirror_mode": {
    "name": "ipython",
    "version": 3
   },
   "file_extension": ".py",
   "mimetype": "text/x-python",
   "name": "python",
   "nbconvert_exporter": "python",
   "pygments_lexer": "ipython3",
   "version": "3.7.3"
  }
 },
 "nbformat": 4,
 "nbformat_minor": 4
}
