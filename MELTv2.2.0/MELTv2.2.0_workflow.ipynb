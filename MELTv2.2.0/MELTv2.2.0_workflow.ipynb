{
 "cells": [
  {
   "cell_type": "markdown",
   "metadata": {},
   "source": [
    "Setup MELTv2.2.0 workflow running on a dedicated cromwell server"
   ]
  },
  {
   "cell_type": "code",
   "execution_count": 57,
   "metadata": {},
   "outputs": [],
   "source": [
    "WRKDIR='your_working_dir'\n",
    "LOCALTOOLS='path_to/MELTv2.2.0-pipeline'\n",
    "PROJECT_ID='gcp_project_ID'\n",
    "TASK='melt'\n",
    "COHORT='cohort'\n",
    "BUCKET='gs://your_bucket'\n",
    "GCRESOURCES='gs://your_resource_bucket'\n",
    "SAMPLE_BUCKET='gs://bucket/{}/hg38/crams'.format(COHORT)"
   ]
  },
  {
   "cell_type": "markdown",
   "metadata": {},
   "source": [
    "(1) Setup a cromwell server"
   ]
  },
  {
   "cell_type": "code",
   "execution_count": 64,
   "metadata": {},
   "outputs": [
    {
     "name": "stdout",
     "output_type": "stream",
     "text": [
      "#copy and run locally:\n",
      "#fire up the cromwell instance\n",
      "cd your_working_dir/verily-amp-pd-source/setup_cromwell_vm/\n",
      "chmod +x your_working_dir/verily-amp-pd-source/setup_cromwell_vm/*.sh\n",
      "./create_cromwell_server.sh melt-cromwell gcp_project_ID n1-highmem-8\n",
      "./configure.sh melt-cromwell gcp_project_ID gs://your_bucket\n"
     ]
    }
   ],
   "source": [
    "print('#copy and run locally:')\n",
    "print('#fire up the cromwell instance')\n",
    "print('cd {}/verily-amp-pd-source/setup_cromwell_vm/'.format(WRKDIR))\n",
    "print('chmod +x {}/verily-amp-pd-source/setup_cromwell_vm/*.sh'.format(WRKDIR))\n",
    "print('./create_cromwell_server.sh {}-cromwell {} n1-highmem-8'\\\n",
    "      .format(TASK.replace('_','-'),PROJECT_ID))\n",
    "print('./configure.sh {}-cromwell {} {}'\\\n",
    "      .format(TASK.replace('_','-'),PROJECT_ID,BUCKET))"
   ]
  },
  {
   "cell_type": "code",
   "execution_count": 65,
   "metadata": {},
   "outputs": [
    {
     "name": "stdout",
     "output_type": "stream",
     "text": [
      "#When that is up, ssh to the instance\n",
      "gcloud --project gcp_project_ID compute ssh melt-cromwell\n"
     ]
    }
   ],
   "source": [
    "print('#When that is up, ssh to the instance')\n",
    "print('gcloud --project {} compute ssh {}-cromwell'.format(PROJECT_ID,TASK))"
   ]
  },
  {
   "cell_type": "code",
   "execution_count": 37,
   "metadata": {},
   "outputs": [
    {
     "name": "stdout",
     "output_type": "stream",
     "text": [
      "#And in that SSH session, run:\n",
      "cd /install\n",
      "docker-compose -f /install/workspace/config/docker-compose.yml up\n"
     ]
    }
   ],
   "source": [
    "print('#And in that SSH session, run:')\n",
    "print('cd /install')\n",
    "print('docker-compose -f /install/workspace/config/docker-compose.yml up')"
   ]
  },
  {
   "cell_type": "code",
   "execution_count": 66,
   "metadata": {},
   "outputs": [
    {
     "name": "stdout",
     "output_type": "stream",
     "text": [
      "#copy and run locally:\n",
      "#When cromwell is up, create an SSH tunnel from your workstation, if not already connected:\n",
      "gcloud --project gcp_project_ID compute ssh melt-cromwell -- -L 8000:localhost:8000\n"
     ]
    }
   ],
   "source": [
    "print('#copy and run locally:')\n",
    "print('#When cromwell is up, create an SSH tunnel from your workstation, if not already connected:')\n",
    "print('gcloud --project {} compute ssh {}-cromwell -- -L 8000:localhost:8000'.\\\n",
    "      format(PROJECT_ID,TASK.replace('_','-')))"
   ]
  },
  {
   "cell_type": "markdown",
   "metadata": {},
   "source": [
    "(2) Format input files"
   ]
  },
  {
   "cell_type": "code",
   "execution_count": 16,
   "metadata": {},
   "outputs": [
    {
     "name": "stdout",
     "output_type": "stream",
     "text": [
      "cd your_working_dir/cohort\n"
     ]
    }
   ],
   "source": [
    "print('cd {}/{}'.format(WRKDIR,COHORT))"
   ]
  },
  {
   "cell_type": "code",
   "execution_count": 17,
   "metadata": {},
   "outputs": [
    {
     "name": "stdout",
     "output_type": "stream",
     "text": [
      "mkdir jsons\n"
     ]
    }
   ],
   "source": [
    "print('mkdir jsons')"
   ]
  },
  {
   "cell_type": "code",
   "execution_count": 38,
   "metadata": {},
   "outputs": [
    {
     "name": "stdout",
     "output_type": "stream",
     "text": [
      "(742, 1)\n",
      "    SampleID\n",
      "0   2020-159\n",
      "1   25020484\n",
      "2  NIHPD0657\n",
      "3     NIHPD1\n",
      "4   NIHPD103\n"
     ]
    }
   ],
   "source": [
    "import pandas as pd\n",
    "SampleInfor_df=pd.read_csv('{}/{}/{}.hg38.cram'.format(WRKDIR,COHORT,COHORT), sep='\\t', names=['SampleID'])\n",
    "print(SampleInfor_df.shape)\n",
    "print(SampleInfor_df.head())"
   ]
  },
  {
   "cell_type": "code",
   "execution_count": 39,
   "metadata": {},
   "outputs": [],
   "source": [
    "import json\n",
    "json_label_template = '{}/templates/blank.meltv2.2.0.label.json'.format(LOCALTOOLS)\n",
    "json_input_template = '{}/templates/blank.meltv2.2.0.input.json'.format(LOCALTOOLS)\n",
    "json_options_template = '{}/templates/blank.meltv2.2.0.options.json'.format(LOCALTOOLS)\n",
    "\n",
    "for sample_id in SampleInfor_df['SampleID']:\n",
    "    json_label_outfile_name = '{}/{}/jsons/{}.meltv2.2.0.label.json'.format(WRKDIR,COHORT,sample_id)\n",
    "    json_input_outfile_name = '{}/{}/jsons/{}.meltv2.2.0.input.json'.format(WRKDIR,COHORT,sample_id)\n",
    "    json_options_outfile_name = '{}/{}/jsons/{}.meltv2.2.0.options.json'.format(WRKDIR,COHORT,sample_id)\n",
    "    \n",
    "    with open(json_label_template) as json_file:\n",
    "        label_data = json.load(json_file)\n",
    "        \n",
    "        label_data['cohort'] = COHORT.lower()\n",
    "        label_data['sample'] = sample_id.lower()\n",
    "        \n",
    "        with open(json_label_outfile_name, 'w') as json_outfile:\n",
    "            json.dump(label_data,json_outfile,sort_keys=False,indent=4)\n",
    "            \n",
    "    with open(json_options_template) as json_file:\n",
    "        options_data = json.load(json_file)\n",
    "        \n",
    "        options_data['final_workflow_outputs_dir'] = \"{}/{}/hg38/sv-melt/work/{}\".format(BUCKET,COHORT,sample_id)\n",
    "        options_data['final_workflow_log_dir'] = \"{}/{}/logs/melt/{}\".format(BUCKET,COHORT,sample_id)\n",
    "        options_data['final_call_logs_dir'] = \"{}/{}/logs/melt/{}\".format(BUCKET,COHORT,sample_id)\n",
    "\n",
    "        with open(json_options_outfile_name, 'w') as json_outfile:\n",
    "            json.dump(options_data,json_outfile,sort_keys=False,indent=4)\n",
    "            \n",
    "    with open(json_input_template) as json_file:\n",
    "        input_data = json.load(json_file)\n",
    "        \n",
    "        input_data['MELTSingleDelFlow.sample_name'] = sample_id\n",
    "        input_data['MELTSingleDelFlow.input_cram'] = \"{}/{}.cram\".format(SAMPLE_BUCKET, sample_id)\n",
    "        input_data['MELTSingleDelFlow.input_cram_crai'] = \"{}/{}.cram.crai\".format(SAMPLE_BUCKET, sample_id)\n",
    "        input_data['MELTSingleDelFlow.ref_fasta'] = \"{}/broad/Homo_sapiens_assembly38.fasta\".format(GCRESOURCES)\n",
    "        input_data['MELTSingleDelFlow.ref_fasta_index'] = \"{}/broad/Homo_sapiens_assembly38.fasta.fai\".format(GCRESOURCES)\n",
    "        input_data['MELTSingleDelFlow.ref_dict'] = \"{}/broad/Homo_sapiens_assembly38.dict\".format(GCRESOURCES)\n",
    "        input_data['MELTSingleDelFlow.region_bed'] = \"{}/MELT-v2.2.0/MELT_DEL_subset.bed\".format(GCRESOURCES)\n",
    "        input_data['MELTSingleDelFlow.prior_files'] = \"{}/MELT-v2.2.0/prior_files.tar.gz\".format(GCRESOURCES)\n",
    "        input_data['MELTSingleDelFlow.meltv2_docker'] = \"us.gcr.io/nih-nia-lng-cbg/meltv2:2020-4\"\n",
    "        \n",
    "        with open(json_input_outfile_name, 'w') as json_outfile:\n",
    "            json.dump(input_data,json_outfile,sort_keys=False,indent=4)"
   ]
  },
  {
   "cell_type": "markdown",
   "metadata": {},
   "source": [
    "(3) Format the commands"
   ]
  },
  {
   "cell_type": "code",
   "execution_count": 40,
   "metadata": {},
   "outputs": [],
   "source": [
    "def formatgcpcmd(this_sample):\n",
    "    this_cmd = 'echo -n {SAMPLE} \\n\\\n",
    "python2 {WRKDIR}/tools/verily-amp-pd-source/wdl_workflow_runner/cromwell_client.py \\\n",
    "--wdl {LOCALTOOLS}/MELTv2.2.0_Single_DEL.wdl \\\n",
    "--workflow-inputs {WRKDIR}/{COHORT}/jsons/{SAMPLE}.meltv2.2.0.input.json \\\n",
    "--workflow-options {WRKDIR}/{COHORT}/jsons/{SAMPLE}.meltv2.2.0.options.json \\\n",
    "--workflow-labels {WRKDIR}/{COHORT}/jsons/{SAMPLE}.meltv2.2.0.label.json'\n",
    "    return(this_cmd.format(WRKDIR=WRKDIR,LOCALTOOLS=LOCALTOOLS,COHORT=COHORT,SAMPLE=this_sample))"
   ]
  },
  {
   "cell_type": "code",
   "execution_count": 53,
   "metadata": {},
   "outputs": [],
   "source": [
    "cmds = [formatgcpcmd(sample_id) for sample_id in SampleInfor_df['SampleID']]\n",
    "temp_script_file = '{}/{}/run_MELTv2.2.0_Single_DEL.sh'.format(WRKDIR,COHORT)\n",
    "with open(temp_script_file, 'w') as file_handler:\n",
    "    for this_cmd in cmds:\n",
    "        file_handler.write(\"{}\\n\".format(this_cmd))"
   ]
  },
  {
   "cell_type": "markdown",
   "metadata": {},
   "source": [
    "(4) Run run_MELTv2.2.0_Single_Del scripts"
   ]
  },
  {
   "cell_type": "code",
   "execution_count": 59,
   "metadata": {},
   "outputs": [
    {
     "name": "stdout",
     "output_type": "stream",
     "text": [
      "#copy and run locally:\n",
      "chmod +x your_working_dir/cohort/run_MELTv2.2.0_Single_DEL.sh\n",
      "nohup your_working_dir/cohort/run_MELTv2.2.0_Single_DEL.sh > your_working_dir/cohort/run_MELTv2.2.0_Single_Del.log &\n"
     ]
    }
   ],
   "source": [
    "print('#copy and run locally:')\n",
    "print('chmod +x ' + temp_script_file)\n",
    "print('nohup ' + temp_script_file + ' > {}/{}/run_MELTv2.2.0_Single_Del.log &'.format(WRKDIR,COHORT))"
   ]
  },
  {
   "cell_type": "markdown",
   "metadata": {},
   "source": [
    "(5) Monitor the jobs"
   ]
  },
  {
   "cell_type": "code",
   "execution_count": 77,
   "metadata": {},
   "outputs": [
    {
     "name": "stdout",
     "output_type": "stream",
     "text": [
      "#if tunnel established can check cromwell status\n",
      "\n",
      "curl -X GET \"http://localhost:8000/api/workflows/v1/query?status=Running\"\n",
      "curl -X GET \"http://localhost:8000/api/workflows/v1/query?status=Submitted\"\n",
      "curl -X GET \"http://localhost:8000/api/workflows/v1/query?status=Failed\"\n",
      "curl -X GET \"http://localhost:8000/api/workflows/v1/query?status=Succeeded\"\n"
     ]
    }
   ],
   "source": [
    "print('#if tunnel established can check cromwell status\\n')\n",
    "print('curl -X GET \"http://localhost:8000/api/workflows/v1/query?status=Running\"')\n",
    "print('curl -X GET \"http://localhost:8000/api/workflows/v1/query?status=Submitted\"')\n",
    "print('curl -X GET \"http://localhost:8000/api/workflows/v1/query?status=Failed\"')\n",
    "print('curl -X GET \"http://localhost:8000/api/workflows/v1/query?status=Succeeded\"')"
   ]
  },
  {
   "cell_type": "markdown",
   "metadata": {},
   "source": [
    "(6) Transfer results files to cohort bucket"
   ]
  },
  {
   "cell_type": "code",
   "execution_count": 60,
   "metadata": {},
   "outputs": [
    {
     "name": "stdout",
     "output_type": "stream",
     "text": [
      "gsutil -mq mv gs://your_bucket/cohort/hg38/sv-melt/work/**/*.gz gs://your_bucket/cohort/hg38/sv-melt/\n"
     ]
    }
   ],
   "source": [
    "print('gsutil -mq mv {}/{}/hg38/sv-melt/work/**/*.gz {}/{}/hg38/sv-melt/'\\\n",
    "      .format(BUCKET,COHORT.replace('_','-'),BUCKET,COHORT.replace('_','-')))"
   ]
  },
  {
   "cell_type": "markdown",
   "metadata": {},
   "source": [
    "(7) Clean up cromwell workspace"
   ]
  },
  {
   "cell_type": "code",
   "execution_count": 61,
   "metadata": {},
   "outputs": [
    {
     "name": "stdout",
     "output_type": "stream",
     "text": [
      "gsutil -mq rm -r gs://your_bucket/cromwell-execution/MELTSingleDelFlow\n"
     ]
    }
   ],
   "source": [
    "print ('gsutil -mq rm -r {}/cromwell-execution/MELTSingleDelFlow'.format(BUCKET))"
   ]
  },
  {
   "cell_type": "markdown",
   "metadata": {},
   "source": [
    "(8) Delete VM instance"
   ]
  },
  {
   "cell_type": "code",
   "execution_count": 63,
   "metadata": {},
   "outputs": [
    {
     "name": "stdout",
     "output_type": "stream",
     "text": [
      "gcloud compute instances delete melt-cromwell --project gcp_project_ID --zone us-central1-a\n"
     ]
    }
   ],
   "source": [
    "print('gcloud compute instances delete {}-cromwell --project {} --zone us-central1-a'.format(TASK.replace('_','-'),PROJECT_ID))"
   ]
  }
 ],
 "metadata": {
  "kernelspec": {
   "display_name": "Python 3",
   "language": "python",
   "name": "python3"
  },
  "language_info": {
   "codemirror_mode": {
    "name": "ipython",
    "version": 3
   },
   "file_extension": ".py",
   "mimetype": "text/x-python",
   "name": "python",
   "nbconvert_exporter": "python",
   "pygments_lexer": "ipython3",
   "version": "3.7.4"
  }
 },
 "nbformat": 4,
 "nbformat_minor": 4
}
